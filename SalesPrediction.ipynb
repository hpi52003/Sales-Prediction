{
  "nbformat": 4,
  "nbformat_minor": 0,
  "metadata": {
    "colab": {
      "provenance": []
    },
    "kernelspec": {
      "name": "python3",
      "display_name": "Python 3"
    },
    "language_info": {
      "name": "python"
    }
  },
  "cells": [
    {
      "cell_type": "code",
      "execution_count": 3,
      "metadata": {
        "id": "axm6Uf4rdqKQ",
        "colab": {
          "base_uri": "https://localhost:8080/"
        },
        "outputId": "1facfc8c-6889-4935-b301-c3879b9d025f"
      },
      "outputs": [
        {
          "output_type": "stream",
          "name": "stdout",
          "text": [
            "Mean Absolute Error: 1670.12\n",
            "Mean Squared Error: 5691065.23\n",
            "R² Score: 0.9473\n"
          ]
        }
      ],
      "source": [
        "import pandas as pd\n",
        "from sklearn.model_selection import train_test_split\n",
        "from sklearn.preprocessing import OneHotEncoder, StandardScaler\n",
        "from sklearn.ensemble import RandomForestRegressor\n",
        "from sklearn.metrics import mean_absolute_error, mean_squared_error, r2_score\n",
        "\n",
        "# Load dataset\n",
        "sales_file_path = \"car_purchasing.csv\"\n",
        "df = pd.read_csv(sales_file_path, encoding=\"ISO-8859-1\")\n",
        "\n",
        "# Drop unnecessary columns\n",
        "df.drop(columns=['customer name', 'customer e-mail'], inplace=True)\n",
        "\n",
        "# One-hot encode categorical features\n",
        "encoder = OneHotEncoder(drop='first', sparse_output=False)\n",
        "country_encoded = encoder.fit_transform(df[['country']])\n",
        "country_df = pd.DataFrame(country_encoded, columns=encoder.get_feature_names_out(['country']), index=df.index)\n",
        "df = pd.concat([df.drop(columns=['country']), country_df], axis=1)\n",
        "\n",
        "# Split dataset into features and target\n",
        "X = df.drop(columns=['car purchase amount'])\n",
        "y = df['car purchase amount']\n",
        "X_train, X_test, y_train, y_test = train_test_split(X, y, test_size=0.2, random_state=42)\n",
        "\n",
        "# Feature scaling\n",
        "scaler = StandardScaler()\n",
        "X_train = scaler.fit_transform(X_train)\n",
        "X_test = scaler.transform(X_test)\n",
        "\n",
        "# Train regression model\n",
        "model = RandomForestRegressor(n_estimators=100, random_state=42)\n",
        "model.fit(X_train, y_train)\n",
        "\n",
        "# Predictions\n",
        "y_pred = model.predict(X_test)\n",
        "\n",
        "# Evaluate model\n",
        "mae = mean_absolute_error(y_test, y_pred)\n",
        "mse = mean_squared_error(y_test, y_pred)\n",
        "r2 = r2_score(y_test, y_pred)\n",
        "\n",
        "# Print results\n",
        "print(f\"Mean Absolute Error: {mae:.2f}\")\n",
        "print(f\"Mean Squared Error: {mse:.2f}\")\n",
        "print(f\"R² Score: {r2:.4f}\")\n",
        "\n"
      ]
    }
  ]
}